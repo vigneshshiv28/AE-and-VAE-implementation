{
  "nbformat": 4,
  "nbformat_minor": 0,
  "metadata": {
    "colab": {
      "provenance": [],
      "gpuType": "T4"
    },
    "kernelspec": {
      "name": "python3",
      "display_name": "Python 3"
    },
    "language_info": {
      "name": "python"
    },
    "accelerator": "GPU"
  },
  "cells": [
    {
      "cell_type": "code",
      "execution_count": null,
      "metadata": {
        "id": "qcqgtNcYzE9l"
      },
      "outputs": [],
      "source": [
        "import torch\n",
        "from torch import nn\n",
        "from torch import optim\n",
        "from torch.utils.data import DataLoader\n",
        "from torchvision import datasets,transforms\n",
        "import matplotlib.pyplot as plt\n"
      ]
    },
    {
      "cell_type": "code",
      "source": [
        "device = torch.device(\"cuda\" if torch.cuda.is_available() else \"cpu\")\n",
        "device.type"
      ],
      "metadata": {
        "colab": {
          "base_uri": "https://localhost:8080/",
          "height": 35
        },
        "id": "EZ30z_JK7Sz-",
        "outputId": "43a48b76-c425-460a-acc4-63f0059f2779"
      },
      "execution_count": null,
      "outputs": [
        {
          "output_type": "execute_result",
          "data": {
            "text/plain": [
              "'cuda'"
            ],
            "application/vnd.google.colaboratory.intrinsic+json": {
              "type": "string"
            }
          },
          "metadata": {},
          "execution_count": 25
        }
      ]
    },
    {
      "cell_type": "code",
      "source": [
        "transform = transforms.Compose([\n",
        "    transforms.ToTensor(),\n",
        "])"
      ],
      "metadata": {
        "id": "cc5VFetNIMVo"
      },
      "execution_count": null,
      "outputs": []
    },
    {
      "cell_type": "code",
      "source": [
        "train_dataset = datasets.MNIST(root='./data', train=True, download=True, transform=transform)\n",
        "train_loader = DataLoader(train_dataset, batch_size=128, shuffle=True)"
      ],
      "metadata": {
        "id": "rnm4ifXL74HN"
      },
      "execution_count": null,
      "outputs": []
    },
    {
      "cell_type": "code",
      "source": [
        "test_dataset = datasets.MNIST(root='./data', train=False, download=True, transform=transform)\n",
        "test_loader = DataLoader(test_dataset, batch_size=128, shuffle=False)"
      ],
      "metadata": {
        "id": "rmr63SNpITLZ"
      },
      "execution_count": null,
      "outputs": []
    },
    {
      "cell_type": "code",
      "source": [
        "class AE(nn.Module):\n",
        "  def __init__(self):\n",
        "    super(AE,self).__init__()\n",
        "    #Encoder\n",
        "    self.encoder = nn.Sequential(\n",
        "        nn.Linear(28*28, 256),\n",
        "        nn.BatchNorm1d(256),\n",
        "        nn.LeakyReLU(0.2),\n",
        "        nn.Dropout(0.2),\n",
        "\n",
        "        nn.Linear(256, 128),\n",
        "        nn.BatchNorm1d(128),\n",
        "        nn.LeakyReLU(0.2),\n",
        "        nn.Dropout(0.2),\n",
        "\n",
        "        nn.Linear(128, 64),\n",
        "        nn.BatchNorm1d(64),\n",
        "        nn.LeakyReLU(0.2),\n",
        "        nn.Dropout(0.2),\n",
        "\n",
        "        nn.Linear(64, 10)\n",
        "    )\n",
        "\n",
        "    self.decoder = nn.Sequential(\n",
        "        nn.Linear(10, 64),\n",
        "        nn.BatchNorm1d(64),\n",
        "        nn.LeakyReLU(0.2),\n",
        "\n",
        "        nn.Linear(64, 128),\n",
        "        nn.BatchNorm1d(128),\n",
        "        nn.LeakyReLU(0.2),\n",
        "\n",
        "        nn.Linear(128, 256),\n",
        "        nn.BatchNorm1d(256),\n",
        "        nn.LeakyReLU(0.2),\n",
        "\n",
        "        nn.Linear(256, 28*28),\n",
        "        nn.Sigmoid()\n",
        "    )\n",
        "\n",
        "  def forward(self, x):\n",
        "    encoded = self.encoder(x)\n",
        "    decoded = self.decoder(encoded)\n",
        "    return decoded"
      ],
      "metadata": {
        "id": "5HKCSUGDIfSA"
      },
      "execution_count": null,
      "outputs": []
    },
    {
      "cell_type": "code",
      "source": [
        "ae_model = AE().to(device)\n",
        "ae_optimizer = optim.Adam(ae_model.parameters(), lr=1e-3)\n",
        "ae_loss_fn = nn.MSELoss()\n",
        "ae_losses = []"
      ],
      "metadata": {
        "id": "0lKNiSHKLrxR"
      },
      "execution_count": null,
      "outputs": []
    },
    {
      "cell_type": "code",
      "source": [
        "for epoch in range(20):\n",
        "    total_loss = 0\n",
        "    for data in train_loader:\n",
        "        img, _ = data\n",
        "        img = img.view(img.size(0), -1).to(device)\n",
        "\n",
        "        reconstructed = ae_model(img)\n",
        "        loss = ae_loss_fn(reconstructed, img)\n",
        "\n",
        "        ae_optimizer.zero_grad()\n",
        "        loss.backward()\n",
        "        ae_optimizer.step()\n",
        "\n",
        "        total_loss += loss.item()\n",
        "\n",
        "    avg_loss = total_loss / len(train_loader)\n",
        "    ae_losses.append(avg_loss)\n",
        "    print(f\"AE Epoch [{epoch+1}/20], Loss: {avg_loss:.4f}\")"
      ],
      "metadata": {
        "colab": {
          "base_uri": "https://localhost:8080/"
        },
        "id": "r0eIIXgDM2bp",
        "outputId": "06a58b7c-b0c0-4b87-d004-0c814dee1a10"
      },
      "execution_count": null,
      "outputs": [
        {
          "output_type": "stream",
          "name": "stdout",
          "text": [
            "AE Epoch [1/20], Loss: 0.0385\n",
            "AE Epoch [2/20], Loss: 0.0264\n",
            "AE Epoch [3/20], Loss: 0.0247\n",
            "AE Epoch [4/20], Loss: 0.0238\n",
            "AE Epoch [5/20], Loss: 0.0231\n",
            "AE Epoch [6/20], Loss: 0.0227\n",
            "AE Epoch [7/20], Loss: 0.0224\n",
            "AE Epoch [8/20], Loss: 0.0221\n",
            "AE Epoch [9/20], Loss: 0.0218\n",
            "AE Epoch [10/20], Loss: 0.0216\n",
            "AE Epoch [11/20], Loss: 0.0215\n",
            "AE Epoch [12/20], Loss: 0.0213\n",
            "AE Epoch [13/20], Loss: 0.0211\n",
            "AE Epoch [14/20], Loss: 0.0210\n",
            "AE Epoch [15/20], Loss: 0.0209\n",
            "AE Epoch [16/20], Loss: 0.0208\n",
            "AE Epoch [17/20], Loss: 0.0206\n",
            "AE Epoch [18/20], Loss: 0.0206\n",
            "AE Epoch [19/20], Loss: 0.0205\n",
            "AE Epoch [20/20], Loss: 0.0204\n"
          ]
        }
      ]
    },
    {
      "cell_type": "code",
      "source": [
        "class VAE(nn.Module):\n",
        "    def __init__(self):\n",
        "        super(VAE, self).__init__()\n",
        "        self.encoder = nn.Sequential(\n",
        "            nn.Linear(28*28, 256),\n",
        "            nn.LeakyReLU(0.2),\n",
        "            nn.Linear(256, 128),\n",
        "            nn.LeakyReLU(0.2),\n",
        "        )\n",
        "\n",
        "        self.fc_mu = nn.Linear(128, 10)\n",
        "        self.fc_logvar = nn.Linear(128, 10)\n",
        "\n",
        "        self.decoder = nn.Sequential(\n",
        "            nn.Linear(10, 128),\n",
        "            nn.LeakyReLU(0.2),\n",
        "            nn.Linear(128, 256),\n",
        "            nn.LeakyReLU(0.2),\n",
        "            nn.Linear(256, 28*28),\n",
        "            nn.Sigmoid()\n",
        "        )\n",
        "\n",
        "    def forward(self, x):\n",
        "        h = self.encoder(x)\n",
        "        mu = self.fc_mu(h)\n",
        "        logvar = self.fc_logvar(h)\n",
        "\n",
        "        std = torch.exp(0.5 * logvar)\n",
        "        eps = torch.randn_like(std)\n",
        "        z = mu + eps * std\n",
        "\n",
        "        decoded = self.decoder(z)\n",
        "        return decoded, mu, logvar"
      ],
      "metadata": {
        "id": "y5iYnOzOQJVs"
      },
      "execution_count": null,
      "outputs": []
    },
    {
      "cell_type": "code",
      "source": [
        "vae_model = VAE().to(device)\n",
        "vae_optimizer = optim.Adam(vae_model.parameters(), lr=1e-3)\n",
        "vae_losses = []"
      ],
      "metadata": {
        "id": "12A5ySn_pSDc"
      },
      "execution_count": null,
      "outputs": []
    },
    {
      "cell_type": "code",
      "source": [
        "for epoch in range(epochs):\n",
        "    total_loss = 0\n",
        "    for data in train_loader:\n",
        "        img, _ = data\n",
        "        img = img.view(img.size(0), -1).to(device)\n",
        "\n",
        "        reconstructed, mu, logvar = vae_model(img)\n",
        "\n",
        "        recon_loss = nn.functional.binary_cross_entropy(reconstructed, img, reduction='sum')\n",
        "        kl_loss = -0.5 * torch.sum(1 + logvar - mu.pow(2) - logvar.exp())\n",
        "        loss = recon_loss + kl_loss\n",
        "\n",
        "        vae_optimizer.zero_grad()\n",
        "        loss.backward()\n",
        "        vae_optimizer.step()\n",
        "\n",
        "        total_loss += loss.item()\n",
        "\n",
        "    avg_loss = total_loss / len(train_loader)\n",
        "    vae_losses.append(avg_loss)\n",
        "    print(f\"VAE Epoch [{epoch+1}/20], Loss: {avg_loss:.4f}\")"
      ],
      "metadata": {
        "colab": {
          "base_uri": "https://localhost:8080/"
        },
        "id": "VdfnI4pKpbqd",
        "outputId": "c4b3cacb-9708-4b9d-9baf-3daa3c65249f"
      },
      "execution_count": null,
      "outputs": [
        {
          "output_type": "stream",
          "name": "stdout",
          "text": [
            "VAE Epoch [1/20], Loss: 23134.7430\n",
            "VAE Epoch [2/20], Loss: 16677.1123\n",
            "VAE Epoch [3/20], Loss: 15490.6977\n",
            "VAE Epoch [4/20], Loss: 14958.9259\n",
            "VAE Epoch [5/20], Loss: 14648.4568\n",
            "VAE Epoch [6/20], Loss: 14440.8677\n",
            "VAE Epoch [7/20], Loss: 14291.9331\n",
            "VAE Epoch [8/20], Loss: 14168.5788\n",
            "VAE Epoch [9/20], Loss: 14060.6291\n",
            "VAE Epoch [10/20], Loss: 13976.3815\n",
            "VAE Epoch [11/20], Loss: 13897.4590\n",
            "VAE Epoch [12/20], Loss: 13822.2666\n",
            "VAE Epoch [13/20], Loss: 13764.9965\n",
            "VAE Epoch [14/20], Loss: 13707.6298\n",
            "VAE Epoch [15/20], Loss: 13656.2678\n",
            "VAE Epoch [16/20], Loss: 13607.5572\n",
            "VAE Epoch [17/20], Loss: 13570.1552\n",
            "VAE Epoch [18/20], Loss: 13530.7833\n",
            "VAE Epoch [19/20], Loss: 13492.7418\n",
            "VAE Epoch [20/20], Loss: 13460.2344\n"
          ]
        }
      ]
    },
    {
      "cell_type": "code",
      "source": [
        "ae_model.eval()\n",
        "vae_model.eval()"
      ],
      "metadata": {
        "colab": {
          "base_uri": "https://localhost:8080/"
        },
        "id": "2VPbd6r2p1Xm",
        "outputId": "9b3875a0-dc91-414a-8977-e774223a388c"
      },
      "execution_count": null,
      "outputs": [
        {
          "output_type": "execute_result",
          "data": {
            "text/plain": [
              "VAE(\n",
              "  (encoder): Sequential(\n",
              "    (0): Linear(in_features=784, out_features=256, bias=True)\n",
              "    (1): LeakyReLU(negative_slope=0.2)\n",
              "    (2): Linear(in_features=256, out_features=128, bias=True)\n",
              "    (3): LeakyReLU(negative_slope=0.2)\n",
              "  )\n",
              "  (fc_mu): Linear(in_features=128, out_features=10, bias=True)\n",
              "  (fc_logvar): Linear(in_features=128, out_features=10, bias=True)\n",
              "  (decoder): Sequential(\n",
              "    (0): Linear(in_features=10, out_features=128, bias=True)\n",
              "    (1): LeakyReLU(negative_slope=0.2)\n",
              "    (2): Linear(in_features=128, out_features=256, bias=True)\n",
              "    (3): LeakyReLU(negative_slope=0.2)\n",
              "    (4): Linear(in_features=256, out_features=784, bias=True)\n",
              "    (5): Sigmoid()\n",
              "  )\n",
              ")"
            ]
          },
          "metadata": {},
          "execution_count": 35
        }
      ]
    },
    {
      "cell_type": "code",
      "source": [
        "with torch.no_grad():\n",
        "    test_imgs, _ = next(iter(test_loader))\n",
        "    test_imgs = test_imgs[:8].view(8, -1).to(device)\n",
        "\n",
        "    ae_recon = ae_model(test_imgs)\n",
        "    vae_recon, _, _ = vae_model(test_imgs)\n",
        "\n",
        "    fig, axes = plt.subplots(3, 8, figsize=(15, 6))\n",
        "\n",
        "    for i in range(8):\n",
        "        # Original\n",
        "        axes[0, i].imshow(test_imgs[i].cpu().view(28, 28), cmap='gray')\n",
        "        axes[0, i].set_title('Original' if i == 0 else '')\n",
        "        axes[0, i].axis('off')\n",
        "\n",
        "        # AE reconstruction\n",
        "        axes[1, i].imshow(ae_recon[i].cpu().view(28, 28), cmap='gray')\n",
        "        axes[1, i].set_title('AE' if i == 0 else '')\n",
        "        axes[1, i].axis('off')\n",
        "\n",
        "        # VAE reconstruction\n",
        "        axes[2, i].imshow(vae_recon[i].cpu().view(28, 28), cmap='gray')\n",
        "        axes[2, i].set_title('VAE' if i == 0 else '')\n",
        "        axes[2, i].axis('off')\n",
        "\n",
        "    plt.tight_layout()\n",
        "    plt.show()"
      ],
      "metadata": {
        "colab": {
          "base_uri": "https://localhost:8080/"
        },
        "id": "KW2EgcN_p5xr",
        "outputId": "adaaddf8-569d-49ee-b8fe-49130e2d07ef"
      },
      "execution_count": null,
      "outputs": [
        {
          "output_type": "display_data",
          "data": {
            "text/plain": [
              "<Figure size 1500x600 with 24 Axes>"
            ],
            "image/png": "[encoded data removed]"
          },
          "metadata": {}
        }
      ]
    }
  ]
}